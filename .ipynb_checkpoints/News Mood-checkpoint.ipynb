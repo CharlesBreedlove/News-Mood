{
 "cells": [
  {
   "cell_type": "code",
   "execution_count": 48,
   "metadata": {
    "scrolled": true
   },
   "outputs": [],
   "source": [
    "# Dependencies\n",
    "import tweepy\n",
    "import json\n",
    "import numpy as np\n",
    "import matplotlib.pyplot as plt\n",
    "\n",
    "import pandas as pd\n",
    "\n",
    "from config import consumer_key, consumer_secret, access_token, access_token_secret"
   ]
  },
  {
   "cell_type": "code",
   "execution_count": 49,
   "metadata": {},
   "outputs": [],
   "source": [
    "# Import and Initialize Sentiment Analyzer\n",
    "from vaderSentiment.vaderSentiment import SentimentIntensityAnalyzer\n",
    "analyzer = SentimentIntensityAnalyzer()"
   ]
  },
  {
   "cell_type": "code",
   "execution_count": 50,
   "metadata": {},
   "outputs": [],
   "source": [
    " # Twitter API Keys\n",
    "consumer_key = consumer_key\n",
    "consumer_secret = consumer_secret\n",
    "access_token = access_token\n",
    "access_token_secret = access_token_secret"
   ]
  },
  {
   "cell_type": "code",
   "execution_count": 51,
   "metadata": {},
   "outputs": [],
   "source": [
    " # Setup Tweepy API Authentication\n",
    "auth = tweepy.OAuthHandler(consumer_key, consumer_secret)\n",
    "auth.set_access_token(access_token, access_token_secret)\n",
    "api = tweepy.API(auth, parser=tweepy.parsers.JSONParser())"
   ]
  },
  {
   "cell_type": "code",
   "execution_count": 52,
   "metadata": {},
   "outputs": [],
   "source": [
    " # Target Search Term\n",
    "target_users = (\"@CNN\", \"@CBS\", \"@BBCWorld\",\"@FoxNews\",\"@nytimes\")\n"
   ]
  },
  {
   "cell_type": "code",
   "execution_count": 53,
   "metadata": {},
   "outputs": [],
   "source": [
    "tweet_analysis = []\n",
    "tweet_text = []\n",
    "tweet_date = []\n",
    "tweet_name = []\n",
    "tweets_ago = []\n",
    "oldest_tweet = None\n"
   ]
  },
  {
   "cell_type": "code",
   "execution_count": null,
   "metadata": {},
   "outputs": [],
   "source": [
    " # Loop through all tweets\n",
    "for target_user in target_users:\n",
    "    counter = 1\n",
    "    for x in range(1, 6):\n",
    "        public_tweets = api.user_timeline(target_user, page=x)\n",
    "        for tweet in public_tweets:\n",
    "            oldest_tweet = tweet['id'] - 1\n",
    "            tweets_ago.append(counter)\n",
    "            tweet_analysis.append(analyzer.polarity_scores(tweet[\"text\"]))\n",
    "            tweet_text.append(tweet[\"text\"])\n",
    "            tweet_date.append(tweet[\"created_at\"])\n",
    "            tweet_name.append(target_user)\n",
    "            counter += 1\n",
    "    "
   ]
  },
  {
   "cell_type": "code",
   "execution_count": null,
   "metadata": {},
   "outputs": [],
   "source": [
    "sentiment_df = pd.DataFrame(data=tweet_analysis)\n",
    "sentiment_df[\"text\"] = tweet_text\n",
    "sentiment_df[\"date\"] = tweet_date\n",
    "sentiment_df[\"User\"] = tweet_name\n",
    "sentiment_df[\"tweets ago\"] = tweets_ago"
   ]
  },
  {
   "cell_type": "code",
   "execution_count": null,
   "metadata": {
    "scrolled": true
   },
   "outputs": [],
   "source": [
    "i = 0\n",
    "colors = ('red','blue','green','yellow','orange')\n",
    "for user in target_users:\n",
    "    chart_df = sentiment_df.loc[sentiment_df[\"User\"] == user]\n",
    "    plt.scatter(chart_df[\"tweets ago\"], chart_df[\"compound\"],c=colors[i])\n",
    "    i += 1\n",
    "sentiment_df.to_csv(\"TwitterSentiment.csv\", encoding=\"utf-8\", index=False\")\n",
    "plt.gca().invert_xaxis()\n",
    "plt.ylabel('Tweet Polarity')\n",
    "plt.xlabel('Tweets Ago')\n",
    "plt.legend(sentiment_df.User.unique(),bbox_to_anchor=(1, 0.5))\n",
    "plt.savefig(\"ScatterPlot.png\")\n",
    "plt.show()"
   ]
  },
  {
   "cell_type": "code",
   "execution_count": null,
   "metadata": {},
   "outputs": [],
   "source": [
    "y_pos = np.arange(len(target_users))\n",
    "polarity = sentiment_df.groupby(\"User\").mean()"
   ]
  },
  {
   "cell_type": "code",
   "execution_count": null,
   "metadata": {
    "scrolled": true
   },
   "outputs": [],
   "source": [
    "plt.bar(y_pos, polarity[\"compound\"], align='center', alpha=0.5, color=colors)\n",
    "plt.xticks(y_pos, target_users)\n",
    "plt.ylabel('Tweet Polarity')\n",
    "plt.title('Oeverall Media Sentiment bassed on Twitter (4/28/18)')\n",
    "plt.savefig(\"BarChart.png\")\n",
    "plt.show()"
   ]
  },
  {
   "cell_type": "code",
   "execution_count": null,
   "metadata": {},
   "outputs": [],
   "source": []
  }
 ],
 "metadata": {
  "kernelspec": {
   "display_name": "Python 3",
   "language": "python",
   "name": "python3"
  },
  "language_info": {
   "codemirror_mode": {
    "name": "ipython",
    "version": 3
   },
   "file_extension": ".py",
   "mimetype": "text/x-python",
   "name": "python",
   "nbconvert_exporter": "python",
   "pygments_lexer": "ipython3",
   "version": "3.6.4"
  }
 },
 "nbformat": 4,
 "nbformat_minor": 2
}
